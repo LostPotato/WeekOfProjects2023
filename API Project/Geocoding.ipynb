{
 "cells": [
  {
   "cell_type": "code",
   "execution_count": 55,
   "metadata": {},
   "outputs": [],
   "source": [
    "\n",
    "# interacting with Nomination's api\n",
    "import requests\n",
    "from time import sleep\n",
    "\n",
    "base_url = 'https://nominatim.openstreetmap.org/search?'\n"
   ]
  },
  {
   "attachments": {},
   "cell_type": "markdown",
   "metadata": {},
   "source": [
    "## Function Block"
   ]
  },
  {
   "cell_type": "code",
   "execution_count": 56,
   "metadata": {},
   "outputs": [],
   "source": [
    "# creating the request function that will interact\n",
    "# with the api\n",
    "from functools import lru_cache\n",
    "\n",
    "# wrapping the function in a cache function to allow\n",
    "# for local acess of data\n",
    "@lru_cache(maxsize=2000)\n",
    "def nominatim_geocode(address = None    , format='json', limit=1, **kwargs):\n",
    "    '''thin wrapper around nominatim API.\n",
    "    Documentation: https://wiki.openstreetmap.org/wiki\n",
    "    /Nominatim#Parameters\n",
    "    '''\n",
    "    \n",
    "    # setting the parameters for the request\n",
    "    params = {\n",
    "        \"q\": address,\n",
    "        \"format\": format,\n",
    "        \"limit\": limit,\n",
    "        **kwargs\n",
    "    }\n",
    "    \n",
    "    # send the get request\n",
    "    response = requests.get(base_url, params=params)\n",
    "    #check for a valid response\n",
    "    response.raise_for_status\n",
    "    \n",
    "    #sleeping so we don't get in trouble\n",
    "    sleep(1)\n",
    "    \n",
    "    print(response)\n",
    "\n",
    "    # returning the response in a parsed json\n",
    "    return response.json()"
   ]
  },
  {
   "attachments": {},
   "cell_type": "markdown",
   "metadata": {},
   "source": [
    "### Sample request"
   ]
  },
  {
   "cell_type": "code",
   "execution_count": 57,
   "metadata": {},
   "outputs": [
    {
     "name": "stdout",
     "output_type": "stream",
     "text": [
      "<Response [200]>\n"
     ]
    },
    {
     "data": {
      "text/plain": [
       "[{'place_id': 99784192,\n",
       "  'licence': 'Data © OpenStreetMap contributors, ODbL 1.0. https://osm.org/copyright',\n",
       "  'osm_type': 'way',\n",
       "  'osm_id': 5013364,\n",
       "  'boundingbox': ['48.8574753', '48.8590453', '2.2933084', '2.2956897'],\n",
       "  'lat': '48.858260200000004',\n",
       "  'lon': '2.2944990543196795',\n",
       "  'display_name': 'Tour Eiffel, 5, Avenue Anatole France, Quartier du Gros-Caillou, Paris 7e Arrondissement, Paris, Île-de-France, France métropolitaine, 75007, France',\n",
       "  'class': 'tourism',\n",
       "  'type': 'attraction',\n",
       "  'importance': 0.6868325701744196,\n",
       "  'icon': 'https://nominatim.openstreetmap.org/ui/mapicons/poi_point_of_interest.p.20.png'}]"
      ]
     },
     "execution_count": 57,
     "metadata": {},
     "output_type": "execute_result"
    }
   ],
   "source": [
    "nominatim_geocode('Eiffel Tower')"
   ]
  },
  {
   "attachments": {},
   "cell_type": "markdown",
   "metadata": {},
   "source": [
    "### Reading and writing the data"
   ]
  },
  {
   "cell_type": "code",
   "execution_count": 58,
   "metadata": {},
   "outputs": [],
   "source": [
    "# using the csv library\n",
    "from csv import DictReader, DictWriter\n",
    "\n",
    "def read_csv(path:str):\n",
    "    \"\"\"read csv and return it as a list of dictonaries\n",
    "\n",
    "    Args:\n",
    "        path (str): this is the file path to csv\n",
    "    \"\"\"\n",
    "    \n",
    "    # opening and writing to the csv\n",
    "    with open(path, 'r') as f:\n",
    "        return list(DictReader(f))\n",
    "\n",
    "def write_csv(data, path, mode='w'):\n",
    "    \"\"\"Write data to csv\n",
    "\n",
    "    Args:\n",
    "        data (dict): data dictonary to be written to csv\n",
    "        path (str): this is the path to new csv\n",
    "        mode (str, optional): _description_. Defaults to 'w'.\n",
    "\n",
    "    Raises:\n",
    "        ValueError: The value for mode is not correct\n",
    "    \"\"\"\n",
    "    \n",
    "    # Raise error if there isn't a valid write mode\n",
    "    if mode not in 'wa':\n",
    "        raise ValueError(\"mode should be either 'w' or 'a'\")\n",
    "    \n",
    "    # opens / creates the file and writes to the csv\n",
    "    with open(path, mode) as f:\n",
    "        writer = DictWriter(f, fieldnames=data[0].keys())\n",
    "        if mode == 'w':\n",
    "            writer.writeheader() \n",
    "\n",
    "        for row in data:\n",
    "            writer.writerow(row)  \n",
    "        "
   ]
  },
  {
   "attachments": {},
   "cell_type": "markdown",
   "metadata": {},
   "source": [
    "### Testing the code :)"
   ]
  },
  {
   "cell_type": "code",
   "execution_count": 59,
   "metadata": {},
   "outputs": [],
   "source": [
    "cities = read_csv('./cities.csv')"
   ]
  },
  {
   "attachments": {},
   "cell_type": "markdown",
   "metadata": {},
   "source": [
    "### Adding a progress bar\n",
    "\n",
    "Shows an example of the progress bar"
   ]
  },
  {
   "cell_type": "code",
   "execution_count": 76,
   "metadata": {},
   "outputs": [
    {
     "name": "stderr",
     "output_type": "stream",
     "text": [
      "100%|██████████| 3/3 [00:00<00:00, 66576.25it/s]\n"
     ]
    }
   ],
   "source": [
    "from tqdm import tqdm\n",
    "\n",
    "collection = ['Apple', 'Banana', 'Orange']\n",
    "\n",
    "for fruit in tqdm(collection):\n",
    "    pass"
   ]
  },
  {
   "attachments": {},
   "cell_type": "markdown",
   "metadata": {},
   "source": [
    "### Writing a bulk function to handle a lot of request\n",
    "This adds in some error handling to all of the request"
   ]
  },
  {
   "cell_type": "code",
   "execution_count": 73,
   "metadata": {},
   "outputs": [],
   "source": [
    "def geocode_bulk(data, column='address', verbose=False):\n",
    "    \"\"\"assuming all of the data is an iterable of dicts,\n",
    "    this will attempt to geocode each of them, treating {column}\n",
    "    as and address\n",
    "\n",
    "    Args:\n",
    "        data (dict): dictonary of address\n",
    "        column (str, optional): column to search on. Defaults to 'address'.\n",
    "        verbose (bool, optional): displays extra data. Defaults to False.\n",
    "    \"\"\"\n",
    "    result, errors = [], []\n",
    "    for row in tqdm(data):\n",
    "            try:\n",
    "                search = nominatim_geocode(row[column], limit=1)\n",
    "                if len(search) == 0: # no location found:\n",
    "                    result.append(row)\n",
    "                    if verbose:\n",
    "                        print(f\"Can't find anything for {row[column]}\")\n",
    "                        \n",
    "                else:\n",
    "                    info = search[0] # most \"important\" result\n",
    "                    info.update(row) # merge two dicts\n",
    "                    result.append(info) \n",
    "            except Exception as e:\n",
    "                if verbose:\n",
    "                    print(e)\n",
    "                row['error'] = e\n",
    "                errors.append(row)\n",
    "        \n",
    "    if len(errors) > 0 and verbose:\n",
    "        print(f'{len(errors)}/{len(data)} rows failed')\n",
    "\n",
    "    return result, errors"
   ]
  },
  {
   "attachments": {},
   "cell_type": "markdown",
   "metadata": {},
   "source": [
    "### Trying out the bulk function\n"
   ]
  },
  {
   "cell_type": "code",
   "execution_count": 75,
   "metadata": {},
   "outputs": [
    {
     "name": "stderr",
     "output_type": "stream",
     "text": [
      "100%|██████████| 10/10 [00:00<00:00, 200684.40it/s]"
     ]
    },
    {
     "name": "stdout",
     "output_type": "stream",
     "text": [
      "Can't find anything for Mumbau\n"
     ]
    },
    {
     "name": "stderr",
     "output_type": "stream",
     "text": [
      "\n"
     ]
    }
   ],
   "source": [
    "result, errors = geocode_bulk(cities, column='name',verbose=True)"
   ]
  }
 ],
 "metadata": {
  "kernelspec": {
   "display_name": "Python 3",
   "language": "python",
   "name": "python3"
  },
  "language_info": {
   "codemirror_mode": {
    "name": "ipython",
    "version": 3
   },
   "file_extension": ".py",
   "mimetype": "text/x-python",
   "name": "python",
   "nbconvert_exporter": "python",
   "pygments_lexer": "ipython3",
   "version": "3.9.6"
  },
  "orig_nbformat": 4,
  "vscode": {
   "interpreter": {
    "hash": "31f2aee4e71d21fbe5cf8b01ff0e069b9275f58929596ceb00d14d90e3e16cd6"
   }
  }
 },
 "nbformat": 4,
 "nbformat_minor": 2
}
